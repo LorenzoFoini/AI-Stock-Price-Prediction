{
 "cells": [
  {
   "cell_type": "markdown",
   "id": "f23142c9",
   "metadata": {},
   "source": [
    "# NOTEBOOK GOAL: STOCK FORECASTING\n",
    "### Train an AI model to predict the market price of a stock."
   ]
  },
  {
   "cell_type": "code",
   "execution_count": null,
   "id": "7ffb4f58",
   "metadata": {},
   "outputs": [],
   "source": [
    "# Install package\n",
    "!pip install yfinance"
   ]
  },
  {
   "cell_type": "code",
   "execution_count": null,
   "id": "eb628d42",
   "metadata": {},
   "outputs": [],
   "source": [
    "# Import library\n",
    "import yfinance as yf\n",
    "import pandas as pd\n",
    "import matplotlib.pyplot as plt"
   ]
  },
  {
   "cell_type": "code",
   "execution_count": null,
   "id": "666d9314",
   "metadata": {},
   "outputs": [],
   "source": [
    "# Download data\n",
    "data = yf.download(\"AAPL\", start=\"2010-01-01\", end=\"2024-06-30\")"
   ]
  },
  {
   "cell_type": "code",
   "execution_count": null,
   "id": "5206a0d6",
   "metadata": {},
   "outputs": [],
   "source": [
    "# Visual donwloaded data\n",
    "data"
   ]
  },
  {
   "cell_type": "code",
   "execution_count": null,
   "id": "3e214cfe",
   "metadata": {},
   "outputs": [],
   "source": [
    "# Visualise such data using matplotlib\n",
    "plt.figure(figsize=(16,8))\n",
    "plt.plot(data['Adj Close']) # Plotting the 'Adj Close' prices\n",
    "plt.title('Stock price over time') # Setting the title of the plot\n",
    "plt.xlabel('Date') # Setting the label for x-axis\n",
    "plt.ylabel('Price') # Setting the label for y-axis\n",
    "plt.show() # Dispaly the plot"
   ]
  },
  {
   "cell_type": "markdown",
   "id": "c5b2eb39",
   "metadata": {},
   "source": [
    "### Now set the AI model: PROPHET\n",
    "### The dataset must have two columns: 'ds', 'y'"
   ]
  },
  {
   "cell_type": "code",
   "execution_count": null,
   "id": "b9da187f",
   "metadata": {},
   "outputs": [],
   "source": [
    "df = data.reset_index()\n",
    "# Selecting the 'Date' (ds) and 'Close' (y) columns from the stock 'data' dataframe\n",
    "df = df[['Date', 'Close']]\n",
    "# Rename columns for compatibility with Prophet\n",
    "# Date => ds, Close => y\n",
    "df = df.rename(columns={'Date': 'ds', 'Close': 'y'})"
   ]
  },
  {
   "cell_type": "code",
   "execution_count": null,
   "id": "4d5f6daf",
   "metadata": {},
   "outputs": [],
   "source": [
    "# Display dataframe\n",
    "df"
   ]
  },
  {
   "cell_type": "code",
   "execution_count": null,
   "id": "8c749ea4",
   "metadata": {},
   "outputs": [],
   "source": [
    "# Download Prophet\n",
    "!pip install prophet"
   ]
  },
  {
   "cell_type": "code",
   "execution_count": null,
   "id": "5c310b95",
   "metadata": {},
   "outputs": [],
   "source": [
    "# Library\n",
    "from prophet import Prophet\n",
    "import warnings\n",
    "warnings.filterwarnings(\"ignore\")"
   ]
  },
  {
   "cell_type": "code",
   "execution_count": null,
   "id": "3e4b08cd",
   "metadata": {},
   "outputs": [],
   "source": [
    "# Instance model\n",
    "model = Prophet()"
   ]
  },
  {
   "cell_type": "code",
   "execution_count": null,
   "id": "20b6bc61",
   "metadata": {},
   "outputs": [],
   "source": [
    "# Train the model with previous data\n",
    "model.fit(df)"
   ]
  },
  {
   "cell_type": "code",
   "execution_count": null,
   "id": "aef6b238",
   "metadata": {},
   "outputs": [],
   "source": [
    "# Make a prediction\n",
    "prediction = model.make_future_dataframe(periods = 365)"
   ]
  },
  {
   "cell_type": "code",
   "execution_count": null,
   "id": "32c9b011",
   "metadata": {},
   "outputs": [],
   "source": [
    "# Forecast\n",
    "forecast = model.predict(prediction)"
   ]
  },
  {
   "cell_type": "code",
   "execution_count": null,
   "id": "1128b574",
   "metadata": {},
   "outputs": [],
   "source": [
    "# Visualise data\n",
    "from prophet.plot import plot_plotly, plot_components_plotly\n",
    "\n",
    "plot_plotly(model, forecast)"
   ]
  },
  {
   "cell_type": "code",
   "execution_count": null,
   "id": "c29831f6",
   "metadata": {},
   "outputs": [],
   "source": [
    "# Search for some possible trend\n",
    "fig2 = model.plot_components(forecast)"
   ]
  },
  {
   "cell_type": "code",
   "execution_count": null,
   "id": "e20f272d",
   "metadata": {},
   "outputs": [],
   "source": [
    "# Calculate error using Cross Validation (MSE and RMSE)\n",
    "from prophet.diagnostics import cross_validation, performance_metrics\n",
    "df_cv = cross_validation(model, horizon = '365 days', parallel = \"processes\")\n",
    "df_p = performance_metrics(df_cv, rolling_window = 1)\n",
    "\n",
    "df_p[\"rmse\"].values[0] # Error in €"
   ]
  }
 ],
 "metadata": {
  "kernelspec": {
   "display_name": "Python 3 (ipykernel)",
   "language": "python",
   "name": "python3"
  },
  "language_info": {
   "codemirror_mode": {
    "name": "ipython",
    "version": 3
   },
   "file_extension": ".py",
   "mimetype": "text/x-python",
   "name": "python",
   "nbconvert_exporter": "python",
   "pygments_lexer": "ipython3",
   "version": "3.11.5"
  }
 },
 "nbformat": 4,
 "nbformat_minor": 5
}
