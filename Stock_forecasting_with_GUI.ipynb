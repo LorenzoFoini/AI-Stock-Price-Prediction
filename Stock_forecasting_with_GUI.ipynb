{
 "cells": [
  {
   "cell_type": "markdown",
   "id": "f23142c9",
   "metadata": {},
   "source": [
    "# NOTEBOOK GOAL: STOCK FORECASTING WITH GUI\n",
    "### Train an AI model to predict the market price of a stock.\n",
    "### Client use a GUI for insert parameters"
   ]
  },
  {
   "cell_type": "code",
   "execution_count": null,
   "id": "5e790bcd",
   "metadata": {},
   "outputs": [],
   "source": [
    "# Import library\n",
    "import tkinter as tk\n",
    "from tkinter import ttk, messagebox\n",
    "import yfinance as yf\n",
    "from datetime import datetime\n",
    "import matplotlib.pyplot as plt\n",
    "from matplotlib.backends.backend_tkagg import FigureCanvasTkAgg, NavigationToolbar2Tk\n",
    "from prophet import Prophet\n",
    "import pandas as pd"
   ]
  },
  {
   "cell_type": "code",
   "execution_count": null,
   "id": "fc3d802e",
   "metadata": {},
   "outputs": [],
   "source": [
    "# Function to display data in a new windows\n",
    "def display_data(data, title):\n",
    "    window = tk.Toplevel()\n",
    "    window.title(title)\n",
    "    text = tk.Text(window, wrap='none')\n",
    "    text.insert(tk.END, data)\n",
    "    text.pack(expand=True, fill='both')"
   ]
  },
  {
   "cell_type": "code",
   "execution_count": null,
   "id": "2c239a70",
   "metadata": {},
   "outputs": [],
   "source": [
    "# Function to retrieve and view historical market data\n",
    "def show_hist_data():\n",
    "    ticker = ticker_entry.get()\n",
    "    start_date = start_entry.get()\n",
    "    end_date = end_entry.get()\n",
    "    if not ticker or not start_date or not end_date:\n",
    "        messagebox.showerror(\"Error\", \"Please enter all fields (Ticker, Start Date, End Date).\")\n",
    "        return\n",
    "    try:\n",
    "        stock = yf.Ticker(ticker)\n",
    "        hist = stock.history(start=start_date, end=end_date)\n",
    "        display_data(hist.to_string(), \"Historical Market Data\")\n",
    "        plot_data(hist, ticker)\n",
    "    except Exception as e:\n",
    "        messagebox.showerror(\"Error\", str(e))"
   ]
  },
  {
   "cell_type": "code",
   "execution_count": null,
   "id": "d275a2e3",
   "metadata": {},
   "outputs": [],
   "source": [
    "# Function to retrieve and view balances\n",
    "def show_financial_data(data_type):\n",
    "    ticker = ticker_entry.get()\n",
    "    if not ticker:\n",
    "        messagebox.showerror(\"Error\", \"Please enter the Ticker.\")\n",
    "        return\n",
    "    try:\n",
    "        stock = yf.Ticker(ticker)\n",
    "        if data_type == \"income_stmt\":\n",
    "            data = stock.income_stmt\n",
    "        elif data_type == \"balance_sheet\":\n",
    "            data = stock.balance_sheet\n",
    "        elif data_type == \"cashflow\":\n",
    "            data = stock.cashflow\n",
    "        display_data(data.to_string(), data_type.replace(\"_\", \" \").title())\n",
    "    except Exception as e:\n",
    "        messagebox.showerror(\"Error\", str(e))"
   ]
  },
  {
   "cell_type": "code",
   "execution_count": null,
   "id": "eadbbf21",
   "metadata": {},
   "outputs": [],
   "source": [
    "# Function to track historical data\n",
    "def plot_data(data, ticker):\n",
    "    fig, ax = plt.subplots()\n",
    "    data['Close'].plot(ax=ax, title=f'Historical Closing Prices of {ticker}')\n",
    "    ax.set_xlabel(\"Date\")\n",
    "    ax.set_ylabel(\"Closing Price\")\n",
    "\n",
    "    window = tk.Toplevel()\n",
    "    window.title(f'Historical Data Graph of {ticker}')\n",
    "    canvas = FigureCanvasTkAgg(fig, master=window)\n",
    "    canvas.draw()\n",
    "    \n",
    "    # Add toolbar for zoom and values\n",
    "    toolbar = NavigationToolbar2Tk(canvas, window)\n",
    "    toolbar.update()\n",
    "    canvas.get_tk_widget().pack(side=tk.TOP, fill=tk.BOTH, expand=True)"
   ]
  },
  {
   "cell_type": "code",
   "execution_count": null,
   "id": "e2320014",
   "metadata": {},
   "outputs": [],
   "source": [
    "# Feature to predict stock prices using Prophet\n",
    "def forecast_data():\n",
    "    ticker = ticker_entry.get()\n",
    "    start_date = start_entry.get()\n",
    "    end_date = end_entry.get()\n",
    "    forecast_end_date = forecast_end_entry.get()\n",
    "    if not ticker or not start_date or not end_date or not forecast_end_date:\n",
    "        messagebox.showerror(\"Error\", \"Please enter all fields (Ticker, Start Date, End Date, Forecast End Date).\")\n",
    "        return\n",
    "    try:\n",
    "        stock = yf.Ticker(ticker)\n",
    "        hist = stock.history(start=start_date, end=end_date)\n",
    "        df = hist[['Close']].reset_index()\n",
    "        df['Date'] = df['Date'].dt.tz_localize(None)  # Remove timezone\n",
    "        df.rename(columns={'Date': 'ds', 'Close': 'y'}, inplace=True)\n",
    "\n",
    "        m = Prophet()\n",
    "        m.fit(df)\n",
    "        future = m.make_future_dataframe(periods=(datetime.strptime(forecast_end_date, '%Y-%m-%d') - datetime.strptime(end_date, '%Y-%m-%d')).days)\n",
    "        forecast = m.predict(future)\n",
    "\n",
    "        fig1 = m.plot(forecast)\n",
    "        fig2 = m.plot_components(forecast)\n",
    "\n",
    "        display_forecast(fig1, ticker)\n",
    "        display_forecast(fig2, ticker)\n",
    "    except Exception as e:\n",
    "        messagebox.showerror(\"Error\", str(e))"
   ]
  },
  {
   "cell_type": "code",
   "execution_count": null,
   "id": "ff131310",
   "metadata": {},
   "outputs": [],
   "source": [
    "# Function to view forecast graphs\n",
    "def display_forecast(fig, ticker):\n",
    "    window = tk.Toplevel()\n",
    "    window.title(f'Prediction of {ticker}')\n",
    "    canvas = FigureCanvasTkAgg(fig, master=window)\n",
    "    canvas.draw()\n",
    "    \n",
    "    # Add toolbar for zoom and values\n",
    "    toolbar = NavigationToolbar2Tk(canvas, window)\n",
    "    toolbar.update()\n",
    "    canvas.get_tk_widget().pack(side=tk.TOP, fill=tk.BOTH, expand=True)"
   ]
  },
  {
   "cell_type": "code",
   "execution_count": null,
   "id": "eb6343be",
   "metadata": {},
   "outputs": [],
   "source": [
    "# Function to retrieve and view news\n",
    "def show_news():\n",
    "    ticker = ticker_entry.get()\n",
    "    if not ticker:\n",
    "        messagebox.showerror(\"Error\", \"Please enter the Ticker.\")\n",
    "        return\n",
    "    try:\n",
    "        stock = yf.Ticker(ticker)\n",
    "        news = stock.news\n",
    "        news_str = \"\\n\\n\".join([f\"Title: {item['title']}\\nLink: {item['link']}\\n\" for item in news])\n",
    "        display_data(news_str, \"Recent news\")\n",
    "    except Exception as e:\n",
    "        messagebox.showerror(\"Error\", str(e))"
   ]
  },
  {
   "cell_type": "code",
   "execution_count": null,
   "id": "d3265e51",
   "metadata": {},
   "outputs": [],
   "source": [
    "# GUI's main window \n",
    "root = tk.Tk()\n",
    "root.title(\"Stock Information\")\n",
    "\n",
    "# Labels and input fields for tickers and date range\n",
    "ttk.Label(root, text=\"Ticker:\").grid(row=0, column=0, padx=5, pady=5)\n",
    "ticker_entry = ttk.Entry(root)\n",
    "ticker_entry.grid(row=0, column=1, padx=5, pady=5)\n",
    "\n",
    "ttk.Label(root, text=\"Start Date (YYYY-MM-DD):\").grid(row=1, column=0, padx=5, pady=5)\n",
    "start_entry = ttk.Entry(root)\n",
    "start_entry.grid(row=1, column=1, padx=5, pady=5)\n",
    "\n",
    "ttk.Label(root, text=\"End Date (YYYY-MM-DD):\").grid(row=2, column=0, padx=5, pady=5)\n",
    "end_entry = ttk.Entry(root)\n",
    "end_entry.grid(row=2, column=1, padx=5, pady=5)\n",
    "\n",
    "ttk.Label(root, text=\"Forecast End Date (YYYY-MM-DD):\").grid(row=3, column=0, padx=5, pady=5)\n",
    "forecast_end_entry = ttk.Entry(root)\n",
    "forecast_end_entry.grid(row=3, column=1, padx=5, pady=5)\n",
    "\n",
    "# Crea pulsanti per ciascuna categoria di dati\n",
    "ttk.Button(root, text=\"Show Historical Market Data\", command=show_hist_data).grid(row=4, column=0, columnspan=2, pady=5, padx=10, sticky='ew')\n",
    "ttk.Button(root, text=\"Show Balance\", command=lambda: show_financial_data(\"income_stmt\")).grid(row=5, column=0, columnspan=2, pady=5, padx=10, sticky='ew')\n",
    "ttk.Button(root, text=\"Show Balance Sheet\", command=lambda: show_financial_data(\"balance_sheet\")).grid(row=6, column=0, columnspan=2, pady=5, padx=10, sticky='ew')\n",
    "ttk.Button(root, text=\"Show Cash Flow\", command=lambda: show_financial_data(\"cashflow\")).grid(row=7, column=0, columnspan=2, pady=5, padx=10, sticky='ew')\n",
    "ttk.Button(root, text=\"Predict Stock Prices\", command=forecast_data).grid(row=8, column=0, columnspan=2, pady=5, padx=10, sticky='ew')\n",
    "ttk.Button(root, text=\"Show news\", command=show_news).grid(row=9, column=0, columnspan=2, pady=5, padx=10, sticky='ew')\n",
    "\n",
    "root.mainloop()"
   ]
  }
 ],
 "metadata": {
  "kernelspec": {
   "display_name": "Python 3 (ipykernel)",
   "language": "python",
   "name": "python3"
  },
  "language_info": {
   "codemirror_mode": {
    "name": "ipython",
    "version": 3
   },
   "file_extension": ".py",
   "mimetype": "text/x-python",
   "name": "python",
   "nbconvert_exporter": "python",
   "pygments_lexer": "ipython3",
   "version": "3.11.5"
  }
 },
 "nbformat": 4,
 "nbformat_minor": 5
}
